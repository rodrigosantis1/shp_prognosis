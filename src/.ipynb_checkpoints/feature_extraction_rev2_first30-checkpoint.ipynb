{
 "cells": [
  {
   "cell_type": "markdown",
   "metadata": {},
   "source": [
    "# Feature extraction\n",
    "\n",
    "Objective: Extract ts features using tsfresh library.."
   ]
  },
  {
   "cell_type": "code",
   "execution_count": 1,
   "metadata": {},
   "outputs": [],
   "source": [
    "import pandas as pd\n",
    "import numpy as np\n",
    "\n",
    "from tsfresh import extract_features, select_features\n",
    "from tsfresh.utilities.dataframe_functions import impute"
   ]
  },
  {
   "cell_type": "markdown",
   "metadata": {},
   "source": [
    "### Data retrieval\n",
    "\n",
    "#### Read files of the all generators and concatenate into a single file"
   ]
  },
  {
   "cell_type": "code",
   "execution_count": 2,
   "metadata": {},
   "outputs": [
    {
     "data": {
      "text/html": [
       "<div>\n",
       "<style scoped>\n",
       "    .dataframe tbody tr th:only-of-type {\n",
       "        vertical-align: middle;\n",
       "    }\n",
       "\n",
       "    .dataframe tbody tr th {\n",
       "        vertical-align: top;\n",
       "    }\n",
       "\n",
       "    .dataframe thead th {\n",
       "        text-align: right;\n",
       "    }\n",
       "</style>\n",
       "<table border=\"1\" class=\"dataframe\">\n",
       "  <thead>\n",
       "    <tr style=\"text-align: right;\">\n",
       "      <th></th>\n",
       "      <th>E3TimeStamp</th>\n",
       "      <th>Gerador - Corrente Média</th>\n",
       "      <th>Gerador - Corrente R</th>\n",
       "      <th>Gerador - Corrente S</th>\n",
       "      <th>Gerador - Corrente T</th>\n",
       "      <th>Gerador - Frequência</th>\n",
       "      <th>Gerador - Potência Ativa Média</th>\n",
       "      <th>Gerador - Potência Reativa Média</th>\n",
       "      <th>Gerador - Tensão RN</th>\n",
       "      <th>Gerador - Tensão SN</th>\n",
       "      <th>...</th>\n",
       "      <th>Posição da Comporta</th>\n",
       "      <th>Vazão Turbinada</th>\n",
       "      <th>RegV - Rotor</th>\n",
       "      <th>Gerador - Potência Aparente Média</th>\n",
       "      <th>EVI</th>\n",
       "      <th>isMissing</th>\n",
       "      <th>Breakdown</th>\n",
       "      <th>Run</th>\n",
       "      <th>time</th>\n",
       "      <th>generator</th>\n",
       "    </tr>\n",
       "  </thead>\n",
       "  <tbody>\n",
       "    <tr>\n",
       "      <th>0</th>\n",
       "      <td>2018-07-01 00:00:00</td>\n",
       "      <td>228.0</td>\n",
       "      <td>227.0</td>\n",
       "      <td>230.0</td>\n",
       "      <td>227.0</td>\n",
       "      <td>60.000000</td>\n",
       "      <td>5660.0</td>\n",
       "      <td>126.0</td>\n",
       "      <td>8.27</td>\n",
       "      <td>8.25</td>\n",
       "      <td>...</td>\n",
       "      <td>100.0</td>\n",
       "      <td>0.0</td>\n",
       "      <td>90.300003</td>\n",
       "      <td>5662.0</td>\n",
       "      <td>0.690869</td>\n",
       "      <td>0.0</td>\n",
       "      <td>False</td>\n",
       "      <td>0</td>\n",
       "      <td>0</td>\n",
       "      <td>1</td>\n",
       "    </tr>\n",
       "    <tr>\n",
       "      <th>1</th>\n",
       "      <td>2018-07-01 00:05:00</td>\n",
       "      <td>233.0</td>\n",
       "      <td>233.0</td>\n",
       "      <td>235.0</td>\n",
       "      <td>232.0</td>\n",
       "      <td>59.990002</td>\n",
       "      <td>5708.0</td>\n",
       "      <td>123.0</td>\n",
       "      <td>8.26</td>\n",
       "      <td>8.24</td>\n",
       "      <td>...</td>\n",
       "      <td>100.0</td>\n",
       "      <td>0.0</td>\n",
       "      <td>91.599998</td>\n",
       "      <td>5709.0</td>\n",
       "      <td>0.873441</td>\n",
       "      <td>0.0</td>\n",
       "      <td>False</td>\n",
       "      <td>0</td>\n",
       "      <td>1</td>\n",
       "      <td>1</td>\n",
       "    </tr>\n",
       "    <tr>\n",
       "      <th>2</th>\n",
       "      <td>2018-07-01 00:10:00</td>\n",
       "      <td>235.0</td>\n",
       "      <td>234.0</td>\n",
       "      <td>237.0</td>\n",
       "      <td>234.0</td>\n",
       "      <td>60.000000</td>\n",
       "      <td>5838.0</td>\n",
       "      <td>112.0</td>\n",
       "      <td>8.27</td>\n",
       "      <td>8.25</td>\n",
       "      <td>...</td>\n",
       "      <td>100.0</td>\n",
       "      <td>0.0</td>\n",
       "      <td>91.300003</td>\n",
       "      <td>5839.0</td>\n",
       "      <td>0.705691</td>\n",
       "      <td>0.0</td>\n",
       "      <td>False</td>\n",
       "      <td>0</td>\n",
       "      <td>2</td>\n",
       "      <td>1</td>\n",
       "    </tr>\n",
       "    <tr>\n",
       "      <th>3</th>\n",
       "      <td>2018-07-01 00:15:00</td>\n",
       "      <td>232.0</td>\n",
       "      <td>227.0</td>\n",
       "      <td>230.0</td>\n",
       "      <td>231.0</td>\n",
       "      <td>60.000000</td>\n",
       "      <td>5636.0</td>\n",
       "      <td>132.0</td>\n",
       "      <td>8.26</td>\n",
       "      <td>8.24</td>\n",
       "      <td>...</td>\n",
       "      <td>100.0</td>\n",
       "      <td>0.0</td>\n",
       "      <td>89.199997</td>\n",
       "      <td>5638.0</td>\n",
       "      <td>0.691231</td>\n",
       "      <td>0.0</td>\n",
       "      <td>False</td>\n",
       "      <td>0</td>\n",
       "      <td>3</td>\n",
       "      <td>1</td>\n",
       "    </tr>\n",
       "    <tr>\n",
       "      <th>4</th>\n",
       "      <td>2018-07-01 00:20:00</td>\n",
       "      <td>235.0</td>\n",
       "      <td>233.0</td>\n",
       "      <td>237.0</td>\n",
       "      <td>234.0</td>\n",
       "      <td>60.009998</td>\n",
       "      <td>5794.0</td>\n",
       "      <td>130.0</td>\n",
       "      <td>8.27</td>\n",
       "      <td>8.25</td>\n",
       "      <td>...</td>\n",
       "      <td>100.0</td>\n",
       "      <td>0.0</td>\n",
       "      <td>91.199997</td>\n",
       "      <td>5795.0</td>\n",
       "      <td>0.817129</td>\n",
       "      <td>0.0</td>\n",
       "      <td>False</td>\n",
       "      <td>0</td>\n",
       "      <td>4</td>\n",
       "      <td>1</td>\n",
       "    </tr>\n",
       "  </tbody>\n",
       "</table>\n",
       "<p>5 rows × 54 columns</p>\n",
       "</div>"
      ],
      "text/plain": [
       "           E3TimeStamp  Gerador - Corrente Média  Gerador - Corrente R  \\\n",
       "0  2018-07-01 00:00:00                     228.0                 227.0   \n",
       "1  2018-07-01 00:05:00                     233.0                 233.0   \n",
       "2  2018-07-01 00:10:00                     235.0                 234.0   \n",
       "3  2018-07-01 00:15:00                     232.0                 227.0   \n",
       "4  2018-07-01 00:20:00                     235.0                 233.0   \n",
       "\n",
       "   Gerador - Corrente S  Gerador - Corrente T  Gerador - Frequência  \\\n",
       "0                 230.0                 227.0             60.000000   \n",
       "1                 235.0                 232.0             59.990002   \n",
       "2                 237.0                 234.0             60.000000   \n",
       "3                 230.0                 231.0             60.000000   \n",
       "4                 237.0                 234.0             60.009998   \n",
       "\n",
       "   Gerador - Potência Ativa Média  Gerador - Potência Reativa Média  \\\n",
       "0                          5660.0                             126.0   \n",
       "1                          5708.0                             123.0   \n",
       "2                          5838.0                             112.0   \n",
       "3                          5636.0                             132.0   \n",
       "4                          5794.0                             130.0   \n",
       "\n",
       "   Gerador - Tensão RN  Gerador - Tensão SN  ...  Posição da Comporta  \\\n",
       "0                 8.27                 8.25  ...                100.0   \n",
       "1                 8.26                 8.24  ...                100.0   \n",
       "2                 8.27                 8.25  ...                100.0   \n",
       "3                 8.26                 8.24  ...                100.0   \n",
       "4                 8.27                 8.25  ...                100.0   \n",
       "\n",
       "   Vazão Turbinada  RegV - Rotor  Gerador - Potência Aparente Média       EVI  \\\n",
       "0              0.0     90.300003                             5662.0  0.690869   \n",
       "1              0.0     91.599998                             5709.0  0.873441   \n",
       "2              0.0     91.300003                             5839.0  0.705691   \n",
       "3              0.0     89.199997                             5638.0  0.691231   \n",
       "4              0.0     91.199997                             5795.0  0.817129   \n",
       "\n",
       "   isMissing  Breakdown  Run  time  generator  \n",
       "0        0.0      False    0     0          1  \n",
       "1        0.0      False    0     1          1  \n",
       "2        0.0      False    0     2          1  \n",
       "3        0.0      False    0     3          1  \n",
       "4        0.0      False    0     4          1  \n",
       "\n",
       "[5 rows x 54 columns]"
      ]
     },
     "execution_count": 2,
     "metadata": {},
     "output_type": "execute_result"
    }
   ],
   "source": [
    "df_l = []\n",
    "\n",
    "for generator in range(1,5):\n",
    "\n",
    "    df = pd.read_csv(f'../data/prepared/ap{generator}_data.csv')\n",
    "\n",
    "    df['time'] = df.groupby('Run').cumcount(ascending=True)\n",
    "    df['generator'] = generator\n",
    "\n",
    "    df.rename(columns={'Vazão Turbinado':'Vazão Turbinada'}, inplace=True)\n",
    "\n",
    "    df = df.drop(columns=['Gerador - Energia Consumida', 'Gerador - Energia Ativa Fornecida',\n",
    "       'Gerador - Energia Reativa Fornecida',  'Gerador - Horímetro Elétrico', 'Gerador - Horímetro Mecânico'])\n",
    "\n",
    "    df_l.append(df)\n",
    "\n",
    "df = pd.concat(df_l)\n",
    "\n",
    "df.head()"
   ]
  },
  {
   "cell_type": "markdown",
   "metadata": {},
   "source": [
    "#### Create ID column and select features to feature extraction"
   ]
  },
  {
   "cell_type": "code",
   "execution_count": 3,
   "metadata": {},
   "outputs": [],
   "source": [
    "df['id'] = df['generator'].astype(str) + '-' + df['Run'].astype(str)\n",
    "\n",
    "ts_columns = df.columns[1:48].tolist() + ['id', 'time']\n",
    "\n",
    "df_ts = df[ts_columns].copy()\n",
    "\n",
    "df_ts = df_ts.dropna()\n",
    "\n",
    "df_ts = df_ts.groupby('id').head(100)"
   ]
  },
  {
   "cell_type": "markdown",
   "metadata": {},
   "source": [
    "### Higher-order statistics (HOS) feature extraction\n",
    "\n",
    "- Mean, variance, skewness and kurtosis"
   ]
  },
  {
   "cell_type": "code",
   "execution_count": 4,
   "metadata": {},
   "outputs": [
    {
     "name": "stdout",
     "output_type": "stream",
     "text": [
      "CPU times: user 4.68 s, sys: 46.8 ms, total: 4.73 s\n",
      "Wall time: 4.73 s\n"
     ]
    }
   ],
   "source": [
    "%%time\n",
    "df_hos_feature = df_ts.drop(columns='time').groupby('id').agg(['mean', 'var', 'skew', pd.DataFrame.kurt])\n",
    "df_hos_feature.to_csv('../data/preprocessed/hos_features_rev2.zip', compression='zip')"
   ]
  },
  {
   "cell_type": "markdown",
   "metadata": {},
   "source": [
    "### Time Series FeatuRe Extraction on basis of Scalable Hypothesis tests (tsfresh)\n",
    "\n",
    "#### Extract features"
   ]
  },
  {
   "cell_type": "code",
   "execution_count": 5,
   "metadata": {},
   "outputs": [
    {
     "name": "stderr",
     "output_type": "stream",
     "text": [
      "Feature Extraction: 100%|███████████████████████| 40/40 [03:31<00:00,  5.28s/it]\n"
     ]
    },
    {
     "name": "stdout",
     "output_type": "stream",
     "text": [
      "CPU times: user 1min 7s, sys: 28.4 s, total: 1min 35s\n",
      "Wall time: 4min 41s\n"
     ]
    }
   ],
   "source": [
    "%%time\n",
    "extracted_features = extract_features(df_ts, column_id=\"id\", column_sort=\"time\")\n",
    "extracted_features.to_csv('../data/preprocessed/tsfresh_features_all_rev2.zip', compression='zip')"
   ]
  },
  {
   "cell_type": "markdown",
   "metadata": {},
   "source": [
    "#### Select features based on breakdown status"
   ]
  },
  {
   "cell_type": "code",
   "execution_count": 6,
   "metadata": {},
   "outputs": [
    {
     "name": "stderr",
     "output_type": "stream",
     "text": [
      "/Users/rodrigo.santis/micromamba/envs/datascience/lib/python3.9/site-packages/tsfresh/utilities/dataframe_functions.py:198: RuntimeWarning: The columns ['Gerador - Potência Ativa Média__fft_coefficient__attr_\"real\"__coeff_51'\n",
      " 'Gerador - Potência Ativa Média__fft_coefficient__attr_\"real\"__coeff_52'\n",
      " 'Gerador - Potência Ativa Média__fft_coefficient__attr_\"real\"__coeff_53'\n",
      " ... 'Gerador - Frequência__fft_coefficient__attr_\"angle\"__coeff_98'\n",
      " 'Gerador - Frequência__fft_coefficient__attr_\"angle\"__coeff_99'\n",
      " 'Gerador - Frequência__query_similarity_count__query_None__threshold_0.0'] did not have any finite values. Filling with zeros.\n",
      "  warnings.warn(\n"
     ]
    },
    {
     "name": "stdout",
     "output_type": "stream",
     "text": [
      "CPU times: user 26.6 s, sys: 3.4 s, total: 30 s\n",
      "Wall time: 46.9 s\n"
     ]
    }
   ],
   "source": [
    "%%time\n",
    "y = df.groupby('id')['Breakdown'].last().values\n",
    "\n",
    "impute(extracted_features)\n",
    "features_filtered = select_features(extracted_features, y)\n",
    "\n",
    "features_filtered.to_csv('../data/preprocessed/tsfresh_features_sel_rev2.zip', compression='zip')"
   ]
  }
 ],
 "metadata": {
  "interpreter": {
   "hash": "33f79fe5b12d5d6edfd487bd2a885ff9f1c5b5bdfadcfdcf2bf553085f0ed0cf"
  },
  "kernelspec": {
   "display_name": "Python 3 (ipykernel)",
   "language": "python",
   "name": "python3"
  },
  "language_info": {
   "codemirror_mode": {
    "name": "ipython",
    "version": 3
   },
   "file_extension": ".py",
   "mimetype": "text/x-python",
   "name": "python",
   "nbconvert_exporter": "python",
   "pygments_lexer": "ipython3",
   "version": "3.9.12"
  }
 },
 "nbformat": 4,
 "nbformat_minor": 2
}
