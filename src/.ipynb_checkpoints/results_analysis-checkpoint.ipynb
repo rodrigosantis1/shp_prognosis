{
 "cells": [
  {
   "cell_type": "markdown",
   "metadata": {},
   "source": [
    "# Results"
   ]
  },
  {
   "cell_type": "code",
   "execution_count": 1,
   "metadata": {},
   "outputs": [],
   "source": [
    "import pandas as pd\n",
    "import seaborn as sns\n",
    "import os\n",
    "import matplotlib.pyplot as plt\n",
    "plt.style.use(['science', 'ieee'])\n",
    "figsize = (8,6)\n",
    "os.environ[\"PATH\"] += os.pathsep + '/Library/TeX/texbin'"
   ]
  },
  {
   "cell_type": "code",
   "execution_count": 2,
   "metadata": {},
   "outputs": [],
   "source": [
    "df = pd.read_csv(\"../data/results/Jun-22-2022.csv\")\n",
    "df['group'] = df.features.str.split('_', expand=True)[0] + '-' + df.model\n",
    "\n",
    "def replace(group):\n",
    "    # Replace outliers with mean\n",
    "    mean, std = group.mean(), group.std()\n",
    "    outliers = (group - mean).abs() > 3 * std\n",
    "    group[outliers] = mean        # or \"group[~outliers].mean()\"\n",
    "    return group\n",
    "\n",
    "\n",
    "df['time'] = df.groupby('model').time.transform(replace).values"
   ]
  },
  {
   "cell_type": "code",
   "execution_count": 3,
   "metadata": {},
   "outputs": [
    {
     "data": {
      "text/html": [
       "<div>\n",
       "<style scoped>\n",
       "    .dataframe tbody tr th:only-of-type {\n",
       "        vertical-align: middle;\n",
       "    }\n",
       "\n",
       "    .dataframe tbody tr th {\n",
       "        vertical-align: top;\n",
       "    }\n",
       "\n",
       "    .dataframe thead tr th {\n",
       "        text-align: left;\n",
       "    }\n",
       "\n",
       "    .dataframe thead tr:last-of-type th {\n",
       "        text-align: right;\n",
       "    }\n",
       "</style>\n",
       "<table border=\"1\" class=\"dataframe\">\n",
       "  <thead>\n",
       "    <tr>\n",
       "      <th></th>\n",
       "      <th colspan=\"2\" halign=\"left\">score</th>\n",
       "      <th colspan=\"2\" halign=\"left\">time</th>\n",
       "    </tr>\n",
       "    <tr>\n",
       "      <th></th>\n",
       "      <th>mean</th>\n",
       "      <th>std</th>\n",
       "      <th>mean</th>\n",
       "      <th>std</th>\n",
       "    </tr>\n",
       "    <tr>\n",
       "      <th>group</th>\n",
       "      <th></th>\n",
       "      <th></th>\n",
       "      <th></th>\n",
       "      <th></th>\n",
       "    </tr>\n",
       "  </thead>\n",
       "  <tbody>\n",
       "    <tr>\n",
       "      <th>hos-CoxNet</th>\n",
       "      <td>0.556222</td>\n",
       "      <td>0.089857</td>\n",
       "      <td>0.005380</td>\n",
       "      <td>0.006157</td>\n",
       "    </tr>\n",
       "    <tr>\n",
       "      <th>hos-GBSA</th>\n",
       "      <td>0.744069</td>\n",
       "      <td>0.073642</td>\n",
       "      <td>1.751456</td>\n",
       "      <td>1.506497</td>\n",
       "    </tr>\n",
       "    <tr>\n",
       "      <th>hos-RSF</th>\n",
       "      <td>0.702662</td>\n",
       "      <td>0.084348</td>\n",
       "      <td>14.623201</td>\n",
       "      <td>12.185094</td>\n",
       "    </tr>\n",
       "    <tr>\n",
       "      <th>tsfresh-CoxNet</th>\n",
       "      <td>0.606035</td>\n",
       "      <td>0.106094</td>\n",
       "      <td>0.019359</td>\n",
       "      <td>0.002394</td>\n",
       "    </tr>\n",
       "    <tr>\n",
       "      <th>tsfresh-GBSA</th>\n",
       "      <td>0.764405</td>\n",
       "      <td>0.085486</td>\n",
       "      <td>9.724199</td>\n",
       "      <td>2.274978</td>\n",
       "    </tr>\n",
       "    <tr>\n",
       "      <th>tsfresh-RSF</th>\n",
       "      <td>0.774428</td>\n",
       "      <td>0.090319</td>\n",
       "      <td>27.594938</td>\n",
       "      <td>24.242096</td>\n",
       "    </tr>\n",
       "  </tbody>\n",
       "</table>\n",
       "</div>"
      ],
      "text/plain": [
       "                   score                 time           \n",
       "                    mean       std       mean        std\n",
       "group                                                   \n",
       "hos-CoxNet      0.556222  0.089857   0.005380   0.006157\n",
       "hos-GBSA        0.744069  0.073642   1.751456   1.506497\n",
       "hos-RSF         0.702662  0.084348  14.623201  12.185094\n",
       "tsfresh-CoxNet  0.606035  0.106094   0.019359   0.002394\n",
       "tsfresh-GBSA    0.764405  0.085486   9.724199   2.274978\n",
       "tsfresh-RSF     0.774428  0.090319  27.594938  24.242096"
      ]
     },
     "execution_count": 3,
     "metadata": {},
     "output_type": "execute_result"
    }
   ],
   "source": [
    "df.groupby('group').agg({'score':['mean','std'], 'time':['mean','std']})"
   ]
  },
  {
   "cell_type": "code",
   "execution_count": 4,
   "metadata": {},
   "outputs": [
    {
     "data": {
      "text/plain": [
       "<AxesSubplot:xlabel='group', ylabel='score'>"
      ]
     },
     "execution_count": 4,
     "metadata": {},
     "output_type": "execute_result"
    },
    {
     "data": {
      "image/png": "[encoded data removed]",
      "text/plain": [
       "<Figure size 576x432 with 1 Axes>"
      ]
     },
     "metadata": {
      "needs_background": "light"
     },
     "output_type": "display_data"
    }
   ],
   "source": [
    "f, ax = plt.subplots(figsize=figsize)\n",
    "sns.boxplot(x='group', y='score', data=df, ax=ax)"
   ]
  },
  {
   "cell_type": "code",
   "execution_count": 5,
   "metadata": {},
   "outputs": [
    {
     "data": {
      "text/plain": [
       "F_onewayResult(statistic=103.1441627529637, pvalue=3.003632114425056e-78)"
      ]
     },
     "execution_count": 5,
     "metadata": {},
     "output_type": "execute_result"
    }
   ],
   "source": [
    "from scipy.stats import f_oneway\n",
    "from statsmodels.stats.multicomp import pairwise_tukeyhsd\n",
    "\n",
    "f_oneway(df[df.group == 'hos-CoxNet']['score'].tolist(),\n",
    "    df[df.group == 'hos-RSF']['score'].tolist(),\n",
    "    df[df.group == 'hos-GBSA']['score'].tolist(),\n",
    "    df[df.group == 'tsfresh-CoxNet']['score'].tolist(),\n",
    "    df[df.group == 'tsfresh-RSF']['score'].tolist(),\n",
    "    df[df.group == 'tsfresh-GBSA']['score'].tolist()\n",
    "    )"
   ]
  },
  {
   "cell_type": "code",
   "execution_count": 6,
   "metadata": {},
   "outputs": [
    {
     "name": "stdout",
     "output_type": "stream",
     "text": [
      "        Multiple Comparison of Means - Tukey HSD, FWER=0.05         \n",
      "====================================================================\n",
      "    group1         group2     meandiff p-adj   lower   upper  reject\n",
      "--------------------------------------------------------------------\n",
      "    hos-CoxNet       hos-GBSA   0.1878  0.001  0.1519  0.2238   True\n",
      "    hos-CoxNet        hos-RSF   0.1464  0.001  0.1105  0.1824   True\n",
      "    hos-CoxNet tsfresh-CoxNet   0.0498 0.0012  0.0139  0.0857   True\n",
      "    hos-CoxNet   tsfresh-GBSA   0.2082  0.001  0.1723  0.2441   True\n",
      "    hos-CoxNet    tsfresh-RSF   0.2182  0.001  0.1823  0.2541   True\n",
      "      hos-GBSA        hos-RSF  -0.0414 0.0132 -0.0773 -0.0055   True\n",
      "      hos-GBSA tsfresh-CoxNet   -0.138  0.001 -0.1739 -0.1021   True\n",
      "      hos-GBSA   tsfresh-GBSA   0.0203 0.5743 -0.0156  0.0562  False\n",
      "      hos-GBSA    tsfresh-RSF   0.0304  0.152 -0.0056  0.0663  False\n",
      "       hos-RSF tsfresh-CoxNet  -0.0966  0.001 -0.1325 -0.0607   True\n",
      "       hos-RSF   tsfresh-GBSA   0.0617  0.001  0.0258  0.0977   True\n",
      "       hos-RSF    tsfresh-RSF   0.0718  0.001  0.0359  0.1077   True\n",
      "tsfresh-CoxNet   tsfresh-GBSA   0.1584  0.001  0.1225  0.1943   True\n",
      "tsfresh-CoxNet    tsfresh-RSF   0.1684  0.001  0.1325  0.2043   True\n",
      "  tsfresh-GBSA    tsfresh-RSF     0.01    0.9 -0.0259  0.0459  False\n",
      "--------------------------------------------------------------------\n"
     ]
    }
   ],
   "source": [
    "tukey = pairwise_tukeyhsd(endog=df['score'],\n",
    "                          groups=df['group'],\n",
    "                          alpha=0.05)\n",
    "\n",
    "print(tukey)"
   ]
  }
 ],
 "metadata": {
  "interpreter": {
   "hash": "33f79fe5b12d5d6edfd487bd2a885ff9f1c5b5bdfadcfdcf2bf553085f0ed0cf"
  },
  "kernelspec": {
   "display_name": "Python 3 (ipykernel)",
   "language": "python",
   "name": "python3"
  },
  "language_info": {
   "codemirror_mode": {
    "name": "ipython",
    "version": 3
   },
   "file_extension": ".py",
   "mimetype": "text/x-python",
   "name": "python",
   "nbconvert_exporter": "python",
   "pygments_lexer": "ipython3",
   "version": "3.9.12"
  }
 },
 "nbformat": 4,
 "nbformat_minor": 2
}
